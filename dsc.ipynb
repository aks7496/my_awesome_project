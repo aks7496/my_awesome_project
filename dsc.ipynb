{
 "cells": [
  {
   "cell_type": "code",
   "execution_count": 1,
   "metadata": {},
   "outputs": [],
   "source": [
    "import imageio\n",
    "import matplotlib.pyplot as plt"
   ]
  },
  {
   "cell_type": "code",
   "execution_count": 2,
   "metadata": {},
   "outputs": [],
   "source": [
    "def dsc(im_real, im_fake):\n",
    "    \n",
    "    im_fake_r = im_fake[:,:,0]\n",
    "    mask_fake = im_fake_r > 90\n",
    "    sum_mask_fake = np.sum(mask_fake)\n",
    "    \n",
    "    im_real_r = im_real[:,:,0]\n",
    "    mask_real = im_real_r > 90\n",
    "    sum_mask_real = np.sum(mask_real)\n",
    "    \n",
    "    intersection = np.sum(mask_fake * mask_real)\n",
    "    \n",
    "    DSC = 2*intersection/((sum_mask_real**2)+(sum_mask_fake**2))\n",
    "    return DSC"
   ]
  },
  {
   "cell_type": "code",
   "execution_count": 3,
   "metadata": {},
   "outputs": [],
   "source": [
    "CAT_DIR = str('/Users/agatasularz/Desktop/results/images')"
   ]
  },
  {
   "cell_type": "code",
   "execution_count": 24,
   "metadata": {},
   "outputs": [],
   "source": [
    "source = '/Users/agatasularz/Desktop/results/images'\n",
    "\n",
    "import glob\n",
    "files_fake = glob.glob(source+'/*')\n",
    "allims = []\n",
    "for f in sorted(files):\n",
    "    allims.append(imageio.imread(f))\n",
    "\n",
    "\n",
    "import glob\n",
    "files_fake = glob.glob(source+'/*fake*')\n"
   ]
  },
  {
   "cell_type": "code",
   "execution_count": 25,
   "metadata": {},
   "outputs": [
    {
     "name": "stdout",
     "output_type": "stream",
     "text": [
      "['/Users/agatasularz/Desktop/results/images/0040100010020_sidebyside_fake_B.png', '/Users/agatasularz/Desktop/results/images/31200010111_sidebyside_fake_B.png', '/Users/agatasularz/Desktop/results/images/31300010100_sidebyside_fake_B.png', '/Users/agatasularz/Desktop/results/images/31400010117_sidebyside_fake_B.png', '/Users/agatasularz/Desktop/results/images/31500010097_sidebyside_fake_B.png', '/Users/agatasularz/Desktop/results/images/31600010130_sidebyside_fake_B.png', '/Users/agatasularz/Desktop/results/images/31700010129_sidebyside_fake_B.png', '/Users/agatasularz/Desktop/results/images/31800010132_sidebyside_fake_B.png', '/Users/agatasularz/Desktop/results/images/31900010112_sidebyside_fake_B.png', '/Users/agatasularz/Desktop/results/images/32000010127_sidebyside_fake_B.png', '/Users/agatasularz/Desktop/results/images/32100010116_sidebyside_fake_B.png', '/Users/agatasularz/Desktop/results/images/32200010083_sidebyside_fake_B.png', '/Users/agatasularz/Desktop/results/images/32300010107_sidebyside_fake_B.png', '/Users/agatasularz/Desktop/results/images/32400010110_sidebyside_fake_B.png', '/Users/agatasularz/Desktop/results/images/32500010103_sidebyside_fake_B.png', '/Users/agatasularz/Desktop/results/images/32600010124_sidebyside_fake_B.png', '/Users/agatasularz/Desktop/results/images/32700010095_sidebyside_fake_B.png', '/Users/agatasularz/Desktop/results/images/32800010087_sidebyside_fake_B.png', '/Users/agatasularz/Desktop/results/images/32900010092_sidebyside_fake_B.png', '/Users/agatasularz/Desktop/results/images/33000010104_sidebyside_fake_B.png', '/Users/agatasularz/Desktop/results/images/33100010086_sidebyside_fake_B.png', '/Users/agatasularz/Desktop/results/images/33200010088_sidebyside_fake_B.png', '/Users/agatasularz/Desktop/results/images/33300010102_sidebyside_fake_B.png', '/Users/agatasularz/Desktop/results/images/33400010093_sidebyside_fake_B.png', '/Users/agatasularz/Desktop/results/images/33500010126_sidebyside_fake_B.png', '/Users/agatasularz/Desktop/results/images/33600010114_sidebyside_fake_B.png', '/Users/agatasularz/Desktop/results/images/33700010115_sidebyside_fake_B.png', '/Users/agatasularz/Desktop/results/images/33800010099_sidebyside_fake_B.png', '/Users/agatasularz/Desktop/results/images/33900010091_sidebyside_fake_B.png', '/Users/agatasularz/Desktop/results/images/34000010131_sidebyside_fake_B.png', '/Users/agatasularz/Desktop/results/images/34100010123_sidebyside_fake_B.png', '/Users/agatasularz/Desktop/results/images/34200010082_sidebyside_fake_B.png', '/Users/agatasularz/Desktop/results/images/34300010109_sidebyside_fake_B.png', '/Users/agatasularz/Desktop/results/images/34400010094_sidebyside_fake_B.png', '/Users/agatasularz/Desktop/results/images/34500010133_sidebyside_fake_B.png', '/Users/agatasularz/Desktop/results/images/34600010085_sidebyside_fake_B.png', '/Users/agatasularz/Desktop/results/images/34700010101_sidebyside_fake_B.png', '/Users/agatasularz/Desktop/results/images/34800010136_sidebyside_fake_B.png', '/Users/agatasularz/Desktop/results/images/34900010121_sidebyside_fake_B.png', '/Users/agatasularz/Desktop/results/images/35000010113_sidebyside_fake_B.png', '/Users/agatasularz/Desktop/results/images/35100010098_sidebyside_fake_B.png', '/Users/agatasularz/Desktop/results/images/35200010128_sidebyside_fake_B.png', '/Users/agatasularz/Desktop/results/images/35300010108_sidebyside_fake_B.png', '/Users/agatasularz/Desktop/results/images/35400010118_sidebyside_fake_B.png', '/Users/agatasularz/Desktop/results/images/35500010119_sidebyside_fake_B.png', '/Users/agatasularz/Desktop/results/images/35600010105_sidebyside_fake_B.png', '/Users/agatasularz/Desktop/results/images/35700010089_sidebyside_fake_B.png', '/Users/agatasularz/Desktop/results/images/35800010016_sidebyside_fake_B.png', '/Users/agatasularz/Desktop/results/images/35900010014_sidebyside_fake_B.png', '/Users/agatasularz/Desktop/results/images/36000010015_sidebyside_fake_B.png', '/Users/agatasularz/Desktop/results/images/36100010013_sidebyside_fake_B.png', '/Users/agatasularz/Desktop/results/images/36200010012_sidebyside_fake_B.png', '/Users/agatasularz/Desktop/results/images/36300010016_sidebyside_fake_B.png', '/Users/agatasularz/Desktop/results/images/36400010014_sidebyside_fake_B.png', '/Users/agatasularz/Desktop/results/images/36500010015_sidebyside_fake_B.png', '/Users/agatasularz/Desktop/results/images/36600010013_sidebyside_fake_B.png', '/Users/agatasularz/Desktop/results/images/36700010012_sidebyside_fake_B.png', '/Users/agatasularz/Desktop/results/images/36800010134_sidebyside_fake_B.png', '/Users/agatasularz/Desktop/results/images/36900010135_sidebyside_fake_B.png', '/Users/agatasularz/Desktop/results/images/37000010125_sidebyside_fake_B.png', '/Users/agatasularz/Desktop/results/images/37100010141_sidebyside_fake_B.png', '/Users/agatasularz/Desktop/results/images/37200010142_sidebyside_fake_B.png', '/Users/agatasularz/Desktop/results/images/37300010130_sidebyside_fake_B.png', '/Users/agatasularz/Desktop/results/images/37400010129_sidebyside_fake_B.png', '/Users/agatasularz/Desktop/results/images/37500010132_sidebyside_fake_B.png', '/Users/agatasularz/Desktop/results/images/37600010127_sidebyside_fake_B.png', '/Users/agatasularz/Desktop/results/images/37700010124_sidebyside_fake_B.png', '/Users/agatasularz/Desktop/results/images/37800010138_sidebyside_fake_B.png', '/Users/agatasularz/Desktop/results/images/37900010126_sidebyside_fake_B.png', '/Users/agatasularz/Desktop/results/images/38000010137_sidebyside_fake_B.png', '/Users/agatasularz/Desktop/results/images/38100010144_sidebyside_fake_B.png', '/Users/agatasularz/Desktop/results/images/38200010131_sidebyside_fake_B.png', '/Users/agatasularz/Desktop/results/images/38300010140_sidebyside_fake_B.png', '/Users/agatasularz/Desktop/results/images/38400010123_sidebyside_fake_B.png', '/Users/agatasularz/Desktop/results/images/38500010139_sidebyside_fake_B.png', '/Users/agatasularz/Desktop/results/images/38600010143_sidebyside_fake_B.png', '/Users/agatasularz/Desktop/results/images/38700010133_sidebyside_fake_B.png', '/Users/agatasularz/Desktop/results/images/38800010136_sidebyside_fake_B.png', '/Users/agatasularz/Desktop/results/images/38900010128_sidebyside_fake_B.png', '/Users/agatasularz/Desktop/results/images/39000010145_sidebyside_fake_B.png', '/Users/agatasularz/Desktop/results/images/39100010020_sidebyside_fake_B.png', '/Users/agatasularz/Desktop/results/images/39200010016_sidebyside_fake_B.png', '/Users/agatasularz/Desktop/results/images/39300010019_sidebyside_fake_B.png', '/Users/agatasularz/Desktop/results/images/39400010018_sidebyside_fake_B.png', '/Users/agatasularz/Desktop/results/images/39500010014_sidebyside_fake_B.png', '/Users/agatasularz/Desktop/results/images/39600010015_sidebyside_fake_B.png', '/Users/agatasularz/Desktop/results/images/39700010017_sidebyside_fake_B.png', '/Users/agatasularz/Desktop/results/images/39800010013_sidebyside_fake_B.png', '/Users/agatasularz/Desktop/results/images/39900010016_sidebyside_fake_B.png', '/Users/agatasularz/Desktop/results/images/40000010018_sidebyside_fake_B.png', '/Users/agatasularz/Desktop/results/images/40100010014_sidebyside_fake_B.png', '/Users/agatasularz/Desktop/results/images/40200010015_sidebyside_fake_B.png', '/Users/agatasularz/Desktop/results/images/40300010017_sidebyside_fake_B.png', '/Users/agatasularz/Desktop/results/images/40400010013_sidebyside_fake_B.png', '/Users/agatasularz/Desktop/results/images/40500010012_sidebyside_fake_B.png', '/Users/agatasularz/Desktop/results/images/40600010009_sidebyside_fake_B.png', '/Users/agatasularz/Desktop/results/images/40700010010_sidebyside_fake_B.png', '/Users/agatasularz/Desktop/results/images/40800010008_sidebyside_fake_B.png', '/Users/agatasularz/Desktop/results/images/40900010007_sidebyside_fake_B.png', '/Users/agatasularz/Desktop/results/images/41000010012_sidebyside_fake_B.png', '/Users/agatasularz/Desktop/results/images/41100010011_sidebyside_fake_B.png', '/Users/agatasularz/Desktop/results/images/41200010016_sidebyside_fake_B.png', '/Users/agatasularz/Desktop/results/images/41300010018_sidebyside_fake_B.png', '/Users/agatasularz/Desktop/results/images/41400010015_sidebyside_fake_B.png', '/Users/agatasularz/Desktop/results/images/41500010017_sidebyside_fake_B.png', '/Users/agatasularz/Desktop/results/images/41600010016_sidebyside_fake_B.png', '/Users/agatasularz/Desktop/results/images/41700010018_sidebyside_fake_B.png', '/Users/agatasularz/Desktop/results/images/41800010014_sidebyside_fake_B.png', '/Users/agatasularz/Desktop/results/images/41900010015_sidebyside_fake_B.png', '/Users/agatasularz/Desktop/results/images/42000010017_sidebyside_fake_B.png']\n"
     ]
    }
   ],
   "source": [
    "print(files_fake)"
   ]
  },
  {
   "cell_type": "code",
   "execution_count": 26,
   "metadata": {},
   "outputs": [],
   "source": [
    "import glob\n",
    "files_real = glob.glob(source+'/*')\n",
    "allims = []\n",
    "for f in sorted(files):\n",
    "    allims.append(imageio.imread(f))\n",
    "\n",
    "\n",
    "import glob\n",
    "files_real = glob.glob(source+'/*real_B*')\n"
   ]
  },
  {
   "cell_type": "code",
   "execution_count": 27,
   "metadata": {},
   "outputs": [
    {
     "name": "stdout",
     "output_type": "stream",
     "text": [
      "['/Users/agatasularz/Desktop/results/images/0040100010020_sidebyside_real_B.png', '/Users/agatasularz/Desktop/results/images/31200010111_sidebyside_real_B.png', '/Users/agatasularz/Desktop/results/images/31300010100_sidebyside_real_B.png', '/Users/agatasularz/Desktop/results/images/31400010117_sidebyside_real_B.png', '/Users/agatasularz/Desktop/results/images/31500010097_sidebyside_real_B.png', '/Users/agatasularz/Desktop/results/images/31600010130_sidebyside_real_B.png', '/Users/agatasularz/Desktop/results/images/31700010129_sidebyside_real_B.png', '/Users/agatasularz/Desktop/results/images/31800010132_sidebyside_real_B.png', '/Users/agatasularz/Desktop/results/images/31900010112_sidebyside_real_B.png', '/Users/agatasularz/Desktop/results/images/32000010127_sidebyside_real_B.png', '/Users/agatasularz/Desktop/results/images/32100010116_sidebyside_real_B.png', '/Users/agatasularz/Desktop/results/images/32200010083_sidebyside_real_B.png', '/Users/agatasularz/Desktop/results/images/32300010107_sidebyside_real_B.png', '/Users/agatasularz/Desktop/results/images/32400010110_sidebyside_real_B.png', '/Users/agatasularz/Desktop/results/images/32500010103_sidebyside_real_B.png', '/Users/agatasularz/Desktop/results/images/32600010124_sidebyside_real_B.png', '/Users/agatasularz/Desktop/results/images/32700010095_sidebyside_real_B.png', '/Users/agatasularz/Desktop/results/images/32800010087_sidebyside_real_B.png', '/Users/agatasularz/Desktop/results/images/32900010092_sidebyside_real_B.png', '/Users/agatasularz/Desktop/results/images/33000010104_sidebyside_real_B.png', '/Users/agatasularz/Desktop/results/images/33100010086_sidebyside_real_B.png', '/Users/agatasularz/Desktop/results/images/33200010088_sidebyside_real_B.png', '/Users/agatasularz/Desktop/results/images/33300010102_sidebyside_real_B.png', '/Users/agatasularz/Desktop/results/images/33400010093_sidebyside_real_B.png', '/Users/agatasularz/Desktop/results/images/33500010126_sidebyside_real_B.png', '/Users/agatasularz/Desktop/results/images/33600010114_sidebyside_real_B.png', '/Users/agatasularz/Desktop/results/images/33700010115_sidebyside_real_B.png', '/Users/agatasularz/Desktop/results/images/33800010099_sidebyside_real_B.png', '/Users/agatasularz/Desktop/results/images/33900010091_sidebyside_real_B.png', '/Users/agatasularz/Desktop/results/images/34000010131_sidebyside_real_B.png', '/Users/agatasularz/Desktop/results/images/34100010123_sidebyside_real_B.png', '/Users/agatasularz/Desktop/results/images/34200010082_sidebyside_real_B.png', '/Users/agatasularz/Desktop/results/images/34300010109_sidebyside_real_B.png', '/Users/agatasularz/Desktop/results/images/34400010094_sidebyside_real_B.png', '/Users/agatasularz/Desktop/results/images/34500010133_sidebyside_real_B.png', '/Users/agatasularz/Desktop/results/images/34600010085_sidebyside_real_B.png', '/Users/agatasularz/Desktop/results/images/34700010101_sidebyside_real_B.png', '/Users/agatasularz/Desktop/results/images/34800010136_sidebyside_real_B.png', '/Users/agatasularz/Desktop/results/images/34900010121_sidebyside_real_B.png', '/Users/agatasularz/Desktop/results/images/35000010113_sidebyside_real_B.png', '/Users/agatasularz/Desktop/results/images/35100010098_sidebyside_real_B.png', '/Users/agatasularz/Desktop/results/images/35200010128_sidebyside_real_B.png', '/Users/agatasularz/Desktop/results/images/35300010108_sidebyside_real_B.png', '/Users/agatasularz/Desktop/results/images/35400010118_sidebyside_real_B.png', '/Users/agatasularz/Desktop/results/images/35500010119_sidebyside_real_B.png', '/Users/agatasularz/Desktop/results/images/35600010105_sidebyside_real_B.png', '/Users/agatasularz/Desktop/results/images/35700010089_sidebyside_real_B.png', '/Users/agatasularz/Desktop/results/images/35800010016_sidebyside_real_B.png', '/Users/agatasularz/Desktop/results/images/35900010014_sidebyside_real_B.png', '/Users/agatasularz/Desktop/results/images/36000010015_sidebyside_real_B.png', '/Users/agatasularz/Desktop/results/images/36100010013_sidebyside_real_B.png', '/Users/agatasularz/Desktop/results/images/36200010012_sidebyside_real_B.png', '/Users/agatasularz/Desktop/results/images/36300010016_sidebyside_real_B.png', '/Users/agatasularz/Desktop/results/images/36400010014_sidebyside_real_B.png', '/Users/agatasularz/Desktop/results/images/36500010015_sidebyside_real_B.png', '/Users/agatasularz/Desktop/results/images/36600010013_sidebyside_real_B.png', '/Users/agatasularz/Desktop/results/images/36700010012_sidebyside_real_B.png', '/Users/agatasularz/Desktop/results/images/36800010134_sidebyside_real_B.png', '/Users/agatasularz/Desktop/results/images/36900010135_sidebyside_real_B.png', '/Users/agatasularz/Desktop/results/images/37000010125_sidebyside_real_B.png', '/Users/agatasularz/Desktop/results/images/37100010141_sidebyside_real_B.png', '/Users/agatasularz/Desktop/results/images/37200010142_sidebyside_real_B.png', '/Users/agatasularz/Desktop/results/images/37300010130_sidebyside_real_B.png', '/Users/agatasularz/Desktop/results/images/37400010129_sidebyside_real_B.png', '/Users/agatasularz/Desktop/results/images/37500010132_sidebyside_real_B.png', '/Users/agatasularz/Desktop/results/images/37600010127_sidebyside_real_B.png', '/Users/agatasularz/Desktop/results/images/37700010124_sidebyside_real_B.png', '/Users/agatasularz/Desktop/results/images/37800010138_sidebyside_real_B.png', '/Users/agatasularz/Desktop/results/images/37900010126_sidebyside_real_B.png', '/Users/agatasularz/Desktop/results/images/38000010137_sidebyside_real_B.png', '/Users/agatasularz/Desktop/results/images/38100010144_sidebyside_real_B.png', '/Users/agatasularz/Desktop/results/images/38200010131_sidebyside_real_B.png', '/Users/agatasularz/Desktop/results/images/38300010140_sidebyside_real_B.png', '/Users/agatasularz/Desktop/results/images/38400010123_sidebyside_real_B.png', '/Users/agatasularz/Desktop/results/images/38500010139_sidebyside_real_B.png', '/Users/agatasularz/Desktop/results/images/38600010143_sidebyside_real_B.png', '/Users/agatasularz/Desktop/results/images/38700010133_sidebyside_real_B.png', '/Users/agatasularz/Desktop/results/images/38800010136_sidebyside_real_B.png', '/Users/agatasularz/Desktop/results/images/38900010128_sidebyside_real_B.png', '/Users/agatasularz/Desktop/results/images/39000010145_sidebyside_real_B.png', '/Users/agatasularz/Desktop/results/images/39100010020_sidebyside_real_B.png', '/Users/agatasularz/Desktop/results/images/39200010016_sidebyside_real_B.png', '/Users/agatasularz/Desktop/results/images/39300010019_sidebyside_real_B.png', '/Users/agatasularz/Desktop/results/images/39400010018_sidebyside_real_B.png', '/Users/agatasularz/Desktop/results/images/39500010014_sidebyside_real_B.png', '/Users/agatasularz/Desktop/results/images/39600010015_sidebyside_real_B.png', '/Users/agatasularz/Desktop/results/images/39700010017_sidebyside_real_B.png', '/Users/agatasularz/Desktop/results/images/39800010013_sidebyside_real_B.png', '/Users/agatasularz/Desktop/results/images/39900010016_sidebyside_real_B.png', '/Users/agatasularz/Desktop/results/images/40000010018_sidebyside_real_B.png', '/Users/agatasularz/Desktop/results/images/40100010014_sidebyside_real_B.png', '/Users/agatasularz/Desktop/results/images/40200010015_sidebyside_real_B.png', '/Users/agatasularz/Desktop/results/images/40300010017_sidebyside_real_B.png', '/Users/agatasularz/Desktop/results/images/40400010013_sidebyside_real_B.png', '/Users/agatasularz/Desktop/results/images/40500010012_sidebyside_real_B.png', '/Users/agatasularz/Desktop/results/images/40600010009_sidebyside_real_B.png', '/Users/agatasularz/Desktop/results/images/40700010010_sidebyside_real_B.png', '/Users/agatasularz/Desktop/results/images/40800010008_sidebyside_real_B.png', '/Users/agatasularz/Desktop/results/images/40900010007_sidebyside_real_B.png', '/Users/agatasularz/Desktop/results/images/41000010012_sidebyside_real_B.png', '/Users/agatasularz/Desktop/results/images/41100010011_sidebyside_real_B.png', '/Users/agatasularz/Desktop/results/images/41200010016_sidebyside_real_B.png', '/Users/agatasularz/Desktop/results/images/41300010018_sidebyside_real_B.png', '/Users/agatasularz/Desktop/results/images/41400010015_sidebyside_real_B.png', '/Users/agatasularz/Desktop/results/images/41500010017_sidebyside_real_B.png', '/Users/agatasularz/Desktop/results/images/41600010016_sidebyside_real_B.png', '/Users/agatasularz/Desktop/results/images/41700010018_sidebyside_real_B.png', '/Users/agatasularz/Desktop/results/images/41800010014_sidebyside_real_B.png', '/Users/agatasularz/Desktop/results/images/41900010015_sidebyside_real_B.png', '/Users/agatasularz/Desktop/results/images/42000010017_sidebyside_real_B.png']\n"
     ]
    }
   ],
   "source": [
    "print(files_real)"
   ]
  },
  {
   "cell_type": "code",
   "execution_count": 30,
   "metadata": {},
   "outputs": [
    {
     "data": {
      "text/plain": [
       "110"
      ]
     },
     "execution_count": 30,
     "metadata": {},
     "output_type": "execute_result"
    }
   ],
   "source": [
    "len(files_real)"
   ]
  },
  {
   "cell_type": "code",
   "execution_count": 31,
   "metadata": {},
   "outputs": [
    {
     "data": {
      "text/plain": [
       "110"
      ]
     },
     "execution_count": 31,
     "metadata": {},
     "output_type": "execute_result"
    }
   ],
   "source": [
    "len(files_fake)"
   ]
  },
  {
   "cell_type": "markdown",
   "metadata": {},
   "source": [
    "Agatko, powinno Ci teraz śmigać. Twoja funkcja dsc potrzebuje obrazów, prawda? Więc zmieniłam komórkę poniżej, żeby ta funkcja miała obrazki, a nie tylko nazwy plików, które są do niej wsadzane. \n",
    "\n",
    "Kolejne pytanie: co Ty chcesz z tym DSC zrobić? Bo obecny for-loop jedynie Ci będzie te obrazki zwracał i tyle. Pamiętaj, że jeżeli Twoja definicja funkcji ma return cośtam, to musisz podać wynik = funkcja(argumenty), żeby cośtam = wynik. Jeżeli wyraziłam się jasno ;) Mogę przedzwonić jak coś"
   ]
  },
  {
   "cell_type": "code",
   "execution_count": 1,
   "metadata": {},
   "outputs": [
    {
     "ename": "NameError",
     "evalue": "name 'files_real' is not defined",
     "output_type": "error",
     "traceback": [
      "\u001b[0;31m---------------------------------------------------------------------------\u001b[0m",
      "\u001b[0;31mNameError\u001b[0m                                 Traceback (most recent call last)",
      "\u001b[0;32m<ipython-input-1-4543207c1061>\u001b[0m in \u001b[0;36m<module>\u001b[0;34m()\u001b[0m\n\u001b[0;32m----> 1\u001b[0;31m \u001b[0;32mfor\u001b[0m \u001b[0mi\u001b[0m \u001b[0;32min\u001b[0m \u001b[0mrange\u001b[0m\u001b[0;34m(\u001b[0m\u001b[0mlen\u001b[0m\u001b[0;34m(\u001b[0m\u001b[0mfiles_real\u001b[0m\u001b[0;34m)\u001b[0m\u001b[0;34m)\u001b[0m\u001b[0;34m:\u001b[0m\u001b[0;34m\u001b[0m\u001b[0m\n\u001b[0m\u001b[1;32m      2\u001b[0m     DSC = dsc(imageio.imread(files_real[i]), \n\u001b[1;32m      3\u001b[0m               imageio.imread(files_fake[i]))\n",
      "\u001b[0;31mNameError\u001b[0m: name 'files_real' is not defined"
     ]
    }
   ],
   "source": [
    "for i in range(len(files_real)):\n",
    "    DSC = dsc(imageio.imread(files_real[i]), \n",
    "              imageio.imread(files_fake[i]))"
   ]
  },
  {
   "cell_type": "code",
   "execution_count": null,
   "metadata": {},
   "outputs": [],
   "source": []
  }
 ],
 "metadata": {
  "kernelspec": {
   "display_name": "Python 3",
   "language": "python",
   "name": "python3"
  },
  "language_info": {
   "codemirror_mode": {
    "name": "ipython",
    "version": 3
   },
   "file_extension": ".py",
   "mimetype": "text/x-python",
   "name": "python",
   "nbconvert_exporter": "python",
   "pygments_lexer": "ipython3",
   "version": "3.7.0"
  }
 },
 "nbformat": 4,
 "nbformat_minor": 2
}

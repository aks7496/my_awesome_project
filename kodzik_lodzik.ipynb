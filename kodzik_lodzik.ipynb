{
 "cells": [
  {
   "cell_type": "code",
   "execution_count": 50,
   "metadata": {
    "collapsed": true
   },
   "outputs": [],
   "source": [
    "import os\n",
    "\n",
    "import numpy as np\n",
    "import scipy as sp\n",
    "import matplotlib.pyplot as plt\n",
    "\n",
    "import matplotlib\n",
    "%matplotlib inline"
   ]
  },
  {
   "cell_type": "markdown",
   "metadata": {},
   "source": [
    "Tutaj tylko testujemy, zignoruj:"
   ]
  },
  {
   "cell_type": "code",
   "execution_count": 2,
   "metadata": {
    "collapsed": true
   },
   "outputs": [],
   "source": [
    "test = np.genfromtxt('loop_example.csv', delimiter=',')"
   ]
  },
  {
   "cell_type": "code",
   "execution_count": 3,
   "metadata": {},
   "outputs": [
    {
     "data": {
      "text/plain": [
       "(13, 397)"
      ]
     },
     "execution_count": 3,
     "metadata": {},
     "output_type": "execute_result"
    }
   ],
   "source": [
    "test.shape"
   ]
  },
  {
   "cell_type": "code",
   "execution_count": 11,
   "metadata": {},
   "outputs": [],
   "source": [
    "for i in range(test.shape[0]):\n",
    "    xs = np.array(test[i,0::5])\n",
    "    ys = np.array(test[i,1::5])\n",
    "    \n",
    "    xs_clean = np.ma.masked_invalid(xs).compressed()\n",
    "    ys_clean = np.ma.masked_invalid(ys).compressed()\n",
    "    "
   ]
  },
  {
   "cell_type": "code",
   "execution_count": 14,
   "metadata": {},
   "outputs": [],
   "source": [
    "#im_array = np.loadtxt('Fz_Men_01-23:07:2012-T1W_SE GAD.csv', delimiter=',', skiprows=1)"
   ]
  },
  {
   "cell_type": "markdown",
   "metadata": {},
   "source": [
    "Teraz na poważnie:"
   ]
  },
  {
   "cell_type": "code",
   "execution_count": 28,
   "metadata": {
    "collapsed": true
   },
   "outputs": [],
   "source": [
    "from matplotlib.path import Path as polypath\n",
    "import imageio\n",
    "\n",
    "def makemask(nx,ny,bothcoords):\n",
    "    meshx, meshy = np.meshgrid(np.arange(nx), np.arange(ny))\n",
    "    matx, maty = meshx.flatten(), meshy.flatten()\n",
    "    #print(meshx.shape, meshy.shape, bothcoords)\n",
    "    points = np.vstack((maty,matx)).T\n",
    "    \n",
    "    gridded = polypath(bothcoords).contains_points(points)\n",
    "    gridded = gridded.reshape((ny,nx))\n",
    "    return gridded*1"
   ]
  },
  {
   "cell_type": "markdown",
   "metadata": {},
   "source": [
    "Definiujemy nazwy folderów teraz:"
   ]
  },
  {
   "cell_type": "code",
   "execution_count": 47,
   "metadata": {
    "collapsed": true
   },
   "outputs": [],
   "source": [
    "CAT_DIR = str('/Users/agatasularz/Desktop/Meningioma/Agata_meningioma/')"
   ]
  },
  {
   "cell_type": "code",
   "execution_count": 49,
   "metadata": {
    "collapsed": true
   },
   "outputs": [],
   "source": [
    "cat_name = str('Fz_Men_01-23:07:2012-T1W_SE GAD.csv')"
   ]
  },
  {
   "cell_type": "code",
   "execution_count": 53,
   "metadata": {},
   "outputs": [
    {
     "ename": "FileNotFoundError",
     "evalue": "[Errno 2] No such file or directory: '/Users/agatasularz/Desktop/Meningioma/Agata_meningioma/Fz_Men_01'",
     "output_type": "error",
     "traceback": [
      "\u001b[0;31m---------------------------------------------------------------------------\u001b[0m",
      "\u001b[0;31mFileNotFoundError\u001b[0m                         Traceback (most recent call last)",
      "\u001b[0;32m<ipython-input-53-ca3881379805>\u001b[0m in \u001b[0;36m<module>\u001b[0;34m()\u001b[0m\n\u001b[1;32m      4\u001b[0m \u001b[0;34m\u001b[0m\u001b[0m\n\u001b[1;32m      5\u001b[0m \u001b[0;32mif\u001b[0m \u001b[0;32mnot\u001b[0m \u001b[0mos\u001b[0m\u001b[0;34m.\u001b[0m\u001b[0mpath\u001b[0m\u001b[0;34m.\u001b[0m\u001b[0misdir\u001b[0m\u001b[0;34m(\u001b[0m\u001b[0msave_dir\u001b[0m\u001b[0;34m)\u001b[0m\u001b[0;34m:\u001b[0m\u001b[0;34m\u001b[0m\u001b[0m\n\u001b[0;32m----> 6\u001b[0;31m     \u001b[0mos\u001b[0m\u001b[0;34m.\u001b[0m\u001b[0mmkdir\u001b[0m\u001b[0;34m(\u001b[0m\u001b[0msave_dir\u001b[0m\u001b[0;34m)\u001b[0m\u001b[0;34m\u001b[0m\u001b[0m\n\u001b[0m",
      "\u001b[0;31mFileNotFoundError\u001b[0m: [Errno 2] No such file or directory: '/Users/agatasularz/Desktop/Meningioma/Agata_meningioma/Fz_Men_01'"
     ]
    }
   ],
   "source": [
    "im_array = np.genfromtxt(cat_name, delimiter=',')\n",
    "\n",
    "save_dir = CAT_DIR + cat_name[:9]\n",
    "\n",
    "if not os.path.isdir(save_dir):\n",
    "    os.mkdir(save_dir)"
   ]
  },
  {
   "cell_type": "code",
   "execution_count": 46,
   "metadata": {
    "scrolled": false
   },
   "outputs": [
    {
     "name": "stdout",
     "output_type": "stream",
     "text": [
      "/Users/agatasularz/Desktop/Meningioma/Converted_png/fzmen_01_png/00010003.png\n",
      "/Users/agatasularz/Desktop/Meningioma/Converted_png/fzmen_01_png/00010004.png\n",
      "/Users/agatasularz/Desktop/Meningioma/Converted_png/fzmen_01_png/00010005.png\n",
      "/Users/agatasularz/Desktop/Meningioma/Converted_png/fzmen_01_png/00010006.png\n",
      "/Users/agatasularz/Desktop/Meningioma/Converted_png/fzmen_01_png/00010007.png\n",
      "/Users/agatasularz/Desktop/Meningioma/Converted_png/fzmen_01_png/00010008.png\n",
      "/Users/agatasularz/Desktop/Meningioma/Converted_png/fzmen_01_png/00010009.png\n",
      "/Users/agatasularz/Desktop/Meningioma/Converted_png/fzmen_01_png/00010010.png\n",
      "/Users/agatasularz/Desktop/Meningioma/Converted_png/fzmen_01_png/00010011.png\n",
      "/Users/agatasularz/Desktop/Meningioma/Converted_png/fzmen_01_png/00010012.png\n",
      "/Users/agatasularz/Desktop/Meningioma/Converted_png/fzmen_01_png/00010013.png\n",
      "/Users/agatasularz/Desktop/Meningioma/Converted_png/fzmen_01_png/00010014.png\n",
      "/Users/agatasularz/Desktop/Meningioma/Converted_png/fzmen_01_png/00010015.png\n"
     ]
    }
   ],
   "source": [
    "for i in range(im_array.shape[0]):\n",
    "    im_no = int(im_array[i,0])\n",
    "    xs = np.array(im_array[i,1::5])\n",
    "    ys = np.array(im_array[i,2::5])\n",
    "    \n",
    "    xs_clean = np.ma.masked_invalid(xs).compressed()\n",
    "    ys_clean = np.ma.masked_invalid(ys).compressed()\n",
    "\n",
    "    bothcoords = np.transpose([xs_clean, ys_clean])\n",
    "    imfile_path = str('/Users/agatasularz/Desktop/Meningioma/Converted_png/fzmen_01_png/'\n",
    "                      + '0001%04d.png' %im_no)\n",
    "    save_path_mask = str(save_dir + '/0001%04d_mask.png' %im_no)\n",
    "    save_path_combines = str(save_dir + '/0001%04d_combined.png' %im_no)\n",
    "    \n",
    "    fig1, ax1 = plt.subplots()\n",
    "    fig2, ax2 = plt.subplots()\n",
    "    \n",
    "    ax1.imshow(makemask(256, 256, bothcoords))\n",
    "    fig1.savefig(save_path_mask)\n",
    "    \n",
    "    origimage = imageio.imread(imfile_path)"
   ]
  },
  {
   "cell_type": "code",
   "execution_count": null,
   "metadata": {
    "collapsed": true
   },
   "outputs": [],
   "source": []
  }
 ],
 "metadata": {
  "kernelspec": {
   "display_name": "Python 3",
   "language": "python",
   "name": "python3"
  },
  "language_info": {
   "codemirror_mode": {
    "name": "ipython",
    "version": 3
   },
   "file_extension": ".py",
   "mimetype": "text/x-python",
   "name": "python",
   "nbconvert_exporter": "python",
   "pygments_lexer": "ipython3",
   "version": "3.6.2"
  }
 },
 "nbformat": 4,
 "nbformat_minor": 2
}
